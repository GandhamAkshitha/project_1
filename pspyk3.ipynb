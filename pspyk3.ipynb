{
  "nbformat": 4,
  "nbformat_minor": 0,
  "metadata": {
    "colab": {
      "provenance": [],
      "toc_visible": true
    },
    "kernelspec": {
      "name": "python3",
      "display_name": "Python 3"
    },
    "language_info": {
      "name": "python"
    }
  },
  "cells": [
    {
      "cell_type": "code",
      "source": [
        "pip install pyspark"
      ],
      "metadata": {
        "colab": {
          "base_uri": "https://localhost:8080/"
        },
        "id": "a9yrzBq6moB4",
        "outputId": "be5bfe1b-8e01-4887-ed39-defde9c292e1"
      },
      "execution_count": 4,
      "outputs": [
        {
          "output_type": "stream",
          "name": "stdout",
          "text": [
            "Collecting pyspark\n",
            "  Downloading pyspark-3.5.1.tar.gz (317.0 MB)\n",
            "\u001b[2K     \u001b[90m━━━━━━━━━━━━━━━━━━━━━━━━━━━━━━━━━━━━━━━━\u001b[0m \u001b[32m317.0/317.0 MB\u001b[0m \u001b[31m2.3 MB/s\u001b[0m eta \u001b[36m0:00:00\u001b[0m\n",
            "\u001b[?25h  Preparing metadata (setup.py) ... \u001b[?25l\u001b[?25hdone\n",
            "Requirement already satisfied: py4j==0.10.9.7 in /usr/local/lib/python3.10/dist-packages (from pyspark) (0.10.9.7)\n",
            "Building wheels for collected packages: pyspark\n",
            "  Building wheel for pyspark (setup.py) ... \u001b[?25l\u001b[?25hdone\n",
            "  Created wheel for pyspark: filename=pyspark-3.5.1-py2.py3-none-any.whl size=317488491 sha256=81b930b5acd7a7b74eb19e46f8cb8d7ea144c5e7d61fe4233dc8cb00e8344352\n",
            "  Stored in directory: /root/.cache/pip/wheels/80/1d/60/2c256ed38dddce2fdd93be545214a63e02fbd8d74fb0b7f3a6\n",
            "Successfully built pyspark\n",
            "Installing collected packages: pyspark\n",
            "Successfully installed pyspark-3.5.1\n"
          ]
        }
      ]
    },
    {
      "cell_type": "code",
      "execution_count": null,
      "metadata": {
        "id": "vpo5Vr0QiMUE"
      },
      "outputs": [],
      "source": [
        "#Create local file with the following data\n",
        "\n",
        "Complete the following code using pyspark RDDs\n",
        "\n",
        "movie.csv\n",
        "movieId,moviename,director,year\n",
        "200,shawshank,FrankD,1994\n",
        "201,saw,JamesW,2004\n",
        "202,avengers,JossW,2012\n",
        "204,mi,ChristopherMcq,2018\n",
        "205,wrongturn,DeclanO,2011\n",
        "\n",
        "award.csv\n",
        "catalogId,movieId,awards\n",
        "11,200,2\n",
        "12,200,3\n",
        "13,201,1\n",
        "14,202,3\n",
        "15,202,5\n",
        "16,204,4\n",
        "17,205,1"
      ]
    },
    {
      "cell_type": "code",
      "source": [
        "#Import libraries & Create SparkSession\n",
        "from pyspark.sql import SparkSession"
      ],
      "metadata": {
        "id": "deuJPwWWiUqv"
      },
      "execution_count": 5,
      "outputs": []
    },
    {
      "cell_type": "code",
      "source": [
        "lti_spark = SparkSession.builder.appName('santoshRocks').getOrCreate()"
      ],
      "metadata": {
        "id": "bxdJkH1Gmk-r"
      },
      "execution_count": 6,
      "outputs": []
    },
    {
      "cell_type": "code",
      "source": [
        "#Create two dataframes using respective csv files from local storage\n",
        "movies = lti_spark.createDataFrame([\n",
        "    [200,'shawshank','FrankD',1994], [201,'saw','JamesW',2004], [202,'avengers','JossW',2012],\n",
        "    [204,'mi','ChristopherMcq',2018], [205,'wrongturn','DeclanO',2011]], schema=['movieId','moviename','director','year'])\n",
        "movies"
      ],
      "metadata": {
        "id": "xgXdfz2HiUta",
        "colab": {
          "base_uri": "https://localhost:8080/"
        },
        "outputId": "5501f980-878d-420d-ae42-62686ce62856"
      },
      "execution_count": 11,
      "outputs": [
        {
          "output_type": "execute_result",
          "data": {
            "text/plain": [
              "DataFrame[movieId: bigint, moviename: string, director: string, year: bigint]"
            ]
          },
          "metadata": {},
          "execution_count": 11
        }
      ]
    },
    {
      "cell_type": "code",
      "source": [
        "awards = lti_spark.createDataFrame([[11,200,2],[12,200,3],[13,201,1],[14,202,3],[15,202,5],[16,204,4],\n",
        "    [17,205,1]], schema = ['catalogId','movieId','awards'])\n",
        "awards"
      ],
      "metadata": {
        "colab": {
          "base_uri": "https://localhost:8080/"
        },
        "id": "ukdKxwGznTs5",
        "outputId": "0614a27b-75d8-4763-ee81-d92f8b3dbae0"
      },
      "execution_count": 12,
      "outputs": [
        {
          "output_type": "execute_result",
          "data": {
            "text/plain": [
              "DataFrame[catalogId: bigint, movieId: bigint, awards: bigint]"
            ]
          },
          "metadata": {},
          "execution_count": 12
        }
      ]
    },
    {
      "cell_type": "code",
      "source": [
        "movies.show()"
      ],
      "metadata": {
        "colab": {
          "base_uri": "https://localhost:8080/"
        },
        "id": "7H1ZKG7poFwr",
        "outputId": "5ecfe011-df2f-4772-fb65-1008fcb337d0"
      },
      "execution_count": 13,
      "outputs": [
        {
          "output_type": "stream",
          "name": "stdout",
          "text": [
            "+-------+---------+--------------+----+\n",
            "|movieId|moviename|      director|year|\n",
            "+-------+---------+--------------+----+\n",
            "|    200|shawshank|        FrankD|1994|\n",
            "|    201|      saw|        JamesW|2004|\n",
            "|    202| avengers|         JossW|2012|\n",
            "|    204|       mi|ChristopherMcq|2018|\n",
            "|    205|wrongturn|       DeclanO|2011|\n",
            "+-------+---------+--------------+----+\n",
            "\n"
          ]
        }
      ]
    },
    {
      "cell_type": "code",
      "source": [
        "awards.show()"
      ],
      "metadata": {
        "colab": {
          "base_uri": "https://localhost:8080/"
        },
        "id": "bJ4XuN-moGMN",
        "outputId": "397bfed1-8b3d-4442-b83a-f92df23123ee"
      },
      "execution_count": 14,
      "outputs": [
        {
          "output_type": "stream",
          "name": "stdout",
          "text": [
            "+---------+-------+------+\n",
            "|catalogId|movieId|awards|\n",
            "+---------+-------+------+\n",
            "|       11|    200|     2|\n",
            "|       12|    200|     3|\n",
            "|       13|    201|     1|\n",
            "|       14|    202|     3|\n",
            "|       15|    202|     5|\n",
            "|       16|    204|     4|\n",
            "|       17|    205|     1|\n",
            "+---------+-------+------+\n",
            "\n"
          ]
        }
      ]
    },
    {
      "cell_type": "code",
      "source": [
        "from pyspark.sql.functions import concat"
      ],
      "metadata": {
        "id": "vw2nNCOvq1vd"
      },
      "execution_count": 22,
      "outputs": []
    },
    {
      "cell_type": "code",
      "source": [
        "#Create a new column called \"movieInfo\" in movies dataframe which includes movieName & Director\n",
        "# movies.withColumn('movieInfo',concat(movies[\"moviename\"], movies[\"director\"])).show()\n",
        "movies.withColumn('movieInfo',concat(movies.moviename ,movies.director)).show()"
      ],
      "metadata": {
        "id": "tvQmmuuSiUwI",
        "colab": {
          "base_uri": "https://localhost:8080/"
        },
        "outputId": "a69e7ead-f792-4b1e-b0af-10ce11db5288"
      },
      "execution_count": 27,
      "outputs": [
        {
          "output_type": "stream",
          "name": "stdout",
          "text": [
            "+-------+---------+--------------+----+----------------+\n",
            "|movieId|moviename|      director|year|       movieInfo|\n",
            "+-------+---------+--------------+----+----------------+\n",
            "|    200|shawshank|        FrankD|1994| shawshankFrankD|\n",
            "|    201|      saw|        JamesW|2004|       sawJamesW|\n",
            "|    202| avengers|         JossW|2012|   avengersJossW|\n",
            "|    204|       mi|ChristopherMcq|2018|miChristopherMcq|\n",
            "|    205|wrongturn|       DeclanO|2011|wrongturnDeclanO|\n",
            "+-------+---------+--------------+----+----------------+\n",
            "\n"
          ]
        }
      ]
    },
    {
      "cell_type": "code",
      "source": [
        "#Calculate total number of awards for each movie & display - movieID, movienName, awardsCount\n",
        "\n",
        "df = movies.join(awards, movies.movieId == awards.movieId, 'right')\n",
        "new_df = df.select(movies.movieId, movies.moviename,awards.awards)\n",
        "new_df.show()"
      ],
      "metadata": {
        "id": "7gl8AFTDiUzB",
        "colab": {
          "base_uri": "https://localhost:8080/"
        },
        "outputId": "07110f8f-c331-4a76-933a-7ed2bb9eb474"
      },
      "execution_count": 34,
      "outputs": [
        {
          "output_type": "stream",
          "name": "stdout",
          "text": [
            "+-------+---------+------+\n",
            "|movieId|moviename|awards|\n",
            "+-------+---------+------+\n",
            "|    201|      saw|     1|\n",
            "|    200|shawshank|     2|\n",
            "|    200|shawshank|     3|\n",
            "|    202| avengers|     3|\n",
            "|    202| avengers|     5|\n",
            "|    205|wrongturn|     1|\n",
            "|    204|       mi|     4|\n",
            "+-------+---------+------+\n",
            "\n"
          ]
        }
      ]
    },
    {
      "cell_type": "code",
      "source": [
        "#Get top three movies on the basis of number of awards\n",
        "a = movies.join(awards, movies.movieId == awards.movieId,'right')\n",
        "b = awards.sort(awards.awards).orderBy(awards.awards.desc()).show()\n"
      ],
      "metadata": {
        "id": "sPlzRfJtiU1W",
        "colab": {
          "base_uri": "https://localhost:8080/"
        },
        "outputId": "50a92175-4b9e-4ace-fc86-0e5fb1312ee2"
      },
      "execution_count": 51,
      "outputs": [
        {
          "output_type": "stream",
          "name": "stdout",
          "text": [
            "+---------+-------+------+\n",
            "|catalogId|movieId|awards|\n",
            "+---------+-------+------+\n",
            "|       15|    202|     5|\n",
            "|       16|    204|     4|\n",
            "|       12|    200|     3|\n",
            "|       14|    202|     3|\n",
            "|       11|    200|     2|\n",
            "|       17|    205|     1|\n",
            "|       13|    201|     1|\n",
            "+---------+-------+------+\n",
            "\n"
          ]
        }
      ]
    },
    {
      "cell_type": "code",
      "source": [
        "#Get top three latest movies\n",
        "movies.select(movies.moviename,movies.year).orderBy(movies.year.desc()).show(3)"
      ],
      "metadata": {
        "id": "cLlpSGfqiU3n",
        "colab": {
          "base_uri": "https://localhost:8080/"
        },
        "outputId": "bba09ce4-b3a5-4ad0-b1eb-8155998e7ae6"
      },
      "execution_count": 57,
      "outputs": [
        {
          "output_type": "stream",
          "name": "stdout",
          "text": [
            "+---------+----+\n",
            "|moviename|year|\n",
            "+---------+----+\n",
            "|       mi|2018|\n",
            "| avengers|2012|\n",
            "|wrongturn|2011|\n",
            "+---------+----+\n",
            "only showing top 3 rows\n",
            "\n"
          ]
        }
      ]
    }
  ]
}