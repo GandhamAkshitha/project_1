{
  "cells": [
    {
      "cell_type": "code",
      "source": [
        "%%writefile movie.csv\n",
        "movieId,movieName,year\n",
        "1,Parmanu,2018\n",
        "2,URI,2019\n",
        "3,rrr,2022\n",
        "4,Bahubali,2015\n",
        "5,tanhaji,2020"
      ],
      "metadata": {
        "id": "UmzoK7PgJ5yV",
        "outputId": "8cab9f54-f4ef-4837-f366-154a3b2b1335",
        "colab": {
          "base_uri": "https://localhost:8080/"
        }
      },
      "execution_count": 1,
      "outputs": [
        {
          "output_type": "stream",
          "name": "stdout",
          "text": [
            "Writing movie.csv\n"
          ]
        }
      ]
    },
    {
      "cell_type": "code",
      "source": [
        "%%writefile review.csv\n",
        "movieId,movieInfo,reviews\n",
        "1,,435\n",
        "2,,492\n",
        "3,,444\n",
        "4,,880\n",
        "5,,722\n",
        "6,,888\n",
        "7,,220\n",
        "8,,350\n",
        "9,,619\n",
        "10,,226"
      ],
      "metadata": {
        "id": "-0SJE7z9J5un",
        "outputId": "215338f0-3571-4843-ddf2-4777d250040c",
        "colab": {
          "base_uri": "https://localhost:8080/"
        }
      },
      "execution_count": 2,
      "outputs": [
        {
          "output_type": "stream",
          "name": "stdout",
          "text": [
            "Writing review.csv\n"
          ]
        }
      ]
    },
    {
      "cell_type": "code",
      "source": [
        "pip install pyspark\n"
      ],
      "metadata": {
        "id": "w76U1VEQJ5r7",
        "outputId": "c1d56467-5c26-44e9-8821-2c22fe68a57e",
        "colab": {
          "base_uri": "https://localhost:8080/"
        }
      },
      "execution_count": 3,
      "outputs": [
        {
          "output_type": "stream",
          "name": "stdout",
          "text": [
            "Collecting pyspark\n",
            "  Downloading pyspark-3.5.1.tar.gz (317.0 MB)\n",
            "\u001b[2K     \u001b[90m━━━━━━━━━━━━━━━━━━━━━━━━━━━━━━━━━━━━━━━━\u001b[0m \u001b[32m317.0/317.0 MB\u001b[0m \u001b[31m3.9 MB/s\u001b[0m eta \u001b[36m0:00:00\u001b[0m\n",
            "\u001b[?25h  Preparing metadata (setup.py) ... \u001b[?25l\u001b[?25hdone\n",
            "Requirement already satisfied: py4j==0.10.9.7 in /usr/local/lib/python3.10/dist-packages (from pyspark) (0.10.9.7)\n",
            "Building wheels for collected packages: pyspark\n",
            "  Building wheel for pyspark (setup.py) ... \u001b[?25l\u001b[?25hdone\n",
            "  Created wheel for pyspark: filename=pyspark-3.5.1-py2.py3-none-any.whl size=317488490 sha256=89f2e2afbc2d368ef9d26bfbdde56f7c4dc116b917f331bf81a4cc66a0cdca4a\n",
            "  Stored in directory: /root/.cache/pip/wheels/80/1d/60/2c256ed38dddce2fdd93be545214a63e02fbd8d74fb0b7f3a6\n",
            "Successfully built pyspark\n",
            "Installing collected packages: pyspark\n",
            "Successfully installed pyspark-3.5.1\n"
          ]
        }
      ]
    },
    {
      "cell_type": "code",
      "source": [
        "from pyspark.sql import SparkSession\n",
        "from pyspark.sql.functions import *"
      ],
      "metadata": {
        "id": "sEHsKnP8J5pI"
      },
      "execution_count": 5,
      "outputs": []
    },
    {
      "cell_type": "code",
      "source": [
        "spark = SparkSession.builder.appName(\"practice1\").getOrCreate()"
      ],
      "metadata": {
        "id": "MCRhjCGgJ5mN"
      },
      "execution_count": 6,
      "outputs": []
    },
    {
      "cell_type": "code",
      "source": [
        "movie_df = spark.read.option(\"header\",\"true\").csv(\"movie.csv\")\n",
        "review_df = spark.read.option(\"header\",\"true\").csv(\"review.csv\")"
      ],
      "metadata": {
        "id": "v0MMeqTeJ5jd"
      },
      "execution_count": 7,
      "outputs": []
    },
    {
      "cell_type": "code",
      "source": [
        "movie_df.show()"
      ],
      "metadata": {
        "id": "vfWFDw7AJ5gX",
        "outputId": "1af4b024-603e-45f8-c078-4a62c805e1b9",
        "colab": {
          "base_uri": "https://localhost:8080/"
        }
      },
      "execution_count": 8,
      "outputs": [
        {
          "output_type": "stream",
          "name": "stdout",
          "text": [
            "+-------+---------+----+\n",
            "|movieId|movieName|year|\n",
            "+-------+---------+----+\n",
            "|      1|  Parmanu|2018|\n",
            "|      2|      URI|2019|\n",
            "|      3|      rrr|2022|\n",
            "|      4| Bahubali|2015|\n",
            "|      5|  tanhaji|2020|\n",
            "+-------+---------+----+\n",
            "\n"
          ]
        }
      ]
    },
    {
      "cell_type": "code",
      "source": [
        "review_df.show()"
      ],
      "metadata": {
        "id": "iyBJaNfyOLLK",
        "outputId": "6a1e0060-18bb-45e0-cc67-bfed04d5651e",
        "colab": {
          "base_uri": "https://localhost:8080/"
        }
      },
      "execution_count": 9,
      "outputs": [
        {
          "output_type": "stream",
          "name": "stdout",
          "text": [
            "+-------+---------+-------+\n",
            "|movieId|movieInfo|reviews|\n",
            "+-------+---------+-------+\n",
            "|      1|     NULL|    435|\n",
            "|      2|     NULL|    492|\n",
            "|      3|     NULL|    444|\n",
            "|      4|     NULL|    880|\n",
            "|      5|     NULL|    722|\n",
            "|      6|     NULL|    888|\n",
            "|      7|     NULL|    220|\n",
            "|      8|     NULL|    350|\n",
            "|      9|     NULL|    619|\n",
            "|     10|     NULL|    226|\n",
            "+-------+---------+-------+\n",
            "\n"
          ]
        }
      ]
    },
    {
      "cell_type": "code",
      "source": [
        "full_data = review_df.join(movie_df,\"movieId\",\"right\")"
      ],
      "metadata": {
        "id": "-9MunsSIONRW"
      },
      "execution_count": 37,
      "outputs": []
    },
    {
      "cell_type": "code",
      "source": [
        "full_data.withColumn(\"movieinfo\",concat(col('moviename'),lit(\" \"),col('year'))).show()"
      ],
      "metadata": {
        "id": "bXZ0KZezO580",
        "outputId": "1d9e2f88-db6e-4bcb-b00b-c3a014f68ecc",
        "colab": {
          "base_uri": "https://localhost:8080/"
        }
      },
      "execution_count": 19,
      "outputs": [
        {
          "output_type": "stream",
          "name": "stdout",
          "text": [
            "+-------+-------------+-------+---------+----+\n",
            "|movieId|    movieinfo|reviews|movieName|year|\n",
            "+-------+-------------+-------+---------+----+\n",
            "|      1| Parmanu 2018|    435|  Parmanu|2018|\n",
            "|      2|     URI 2019|    492|      URI|2019|\n",
            "|      3|     rrr 2022|    444|      rrr|2022|\n",
            "|      4|Bahubali 2015|    880| Bahubali|2015|\n",
            "|      5| tanhaji 2020|    722|  tanhaji|2020|\n",
            "+-------+-------------+-------+---------+----+\n",
            "\n"
          ]
        }
      ]
    },
    {
      "cell_type": "code",
      "source": [
        "full_data.withColumn(\"movieinfo\",expr(\"concat(moviename,' ',year)\")).show()"
      ],
      "metadata": {
        "id": "bLtpBDaWRRmQ",
        "outputId": "dc8a4b81-4b11-4200-8ec9-5c4dcddecf6e",
        "colab": {
          "base_uri": "https://localhost:8080/"
        }
      },
      "execution_count": 22,
      "outputs": [
        {
          "output_type": "stream",
          "name": "stdout",
          "text": [
            "+-------+-------------+-------+---------+----+\n",
            "|movieId|    movieinfo|reviews|movieName|year|\n",
            "+-------+-------------+-------+---------+----+\n",
            "|      1| Parmanu 2018|    435|  Parmanu|2018|\n",
            "|      2|     URI 2019|    492|      URI|2019|\n",
            "|      3|     rrr 2022|    444|      rrr|2022|\n",
            "|      4|Bahubali 2015|    880| Bahubali|2015|\n",
            "|      5| tanhaji 2020|    722|  tanhaji|2020|\n",
            "+-------+-------------+-------+---------+----+\n",
            "\n"
          ]
        }
      ]
    },
    {
      "cell_type": "code",
      "source": [
        "full_data.select(max(\"reviews\")).show()"
      ],
      "metadata": {
        "id": "wGFT-G1FRjp8",
        "outputId": "c0bc1d1f-587a-42c8-dfeb-7b0114ae9244",
        "colab": {
          "base_uri": "https://localhost:8080/"
        }
      },
      "execution_count": 24,
      "outputs": [
        {
          "output_type": "stream",
          "name": "stdout",
          "text": [
            "+------------+\n",
            "|max(reviews)|\n",
            "+------------+\n",
            "|         880|\n",
            "+------------+\n",
            "\n"
          ]
        }
      ]
    },
    {
      "cell_type": "code",
      "source": [
        "full_data.select(max(\"reviews\")).show()"
      ],
      "metadata": {
        "id": "4uVlD4Z9SdQC"
      },
      "execution_count": null,
      "outputs": []
    },
    {
      "cell_type": "code",
      "source": [
        "#Find movie with max reviews (output should be string)\n",
        "full_data.orderBy(col('reviews').desc())"
      ],
      "metadata": {
        "id": "eb1GqWB2SdTQ",
        "outputId": "b9f3a474-a7d3-4b47-f4c4-e3001ef6e777",
        "colab": {
          "base_uri": "https://localhost:8080/"
        }
      },
      "execution_count": 38,
      "outputs": [
        {
          "output_type": "execute_result",
          "data": {
            "text/plain": [
              "DataFrame[movieId: string, movieInfo: string, reviews: string, movieName: string, year: string]"
            ]
          },
          "metadata": {},
          "execution_count": 38
        }
      ]
    },
    {
      "cell_type": "code",
      "source": [],
      "metadata": {
        "id": "p707RTQkSdWZ"
      },
      "execution_count": null,
      "outputs": []
    },
    {
      "cell_type": "code",
      "source": [],
      "metadata": {
        "id": "s2Vr0Eo-SdZx"
      },
      "execution_count": null,
      "outputs": []
    }
  ],
  "metadata": {
    "colab": {
      "name": "Welcome To Colab",
      "provenance": []
    },
    "kernelspec": {
      "display_name": "Python 3",
      "name": "python3"
    }
  },
  "nbformat": 4,
  "nbformat_minor": 0
}