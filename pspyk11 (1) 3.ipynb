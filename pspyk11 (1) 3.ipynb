{
 "cells": [
  {
   "cell_type": "code",
   "execution_count": 86,
   "metadata": {
    "id": "4C6Ry_IjTHnd"
   },
   "outputs": [
    {
     "name": "stdout",
     "output_type": "stream",
     "text": [
      "Overwriting airlines.csv\n"
     ]
    }
   ],
   "source": [
    "%%writefile airlines.csv\n",
    "\"AMD\",\"COK\",\"2024-02-24 08:00:00\",\"2024-02-24 10:30:00\",\"2024-02-24 08:50:00\",\"2024-02-24 11:25:00\",\"Akasa Air\",\"airTraffic\"\n",
    "\"COK\",\"SXR\",\"2024-02-25 12:00:00\",\"2024-02-25 18:30:00\",\"2024-02-25 12:15:00\",\"2024-02-25 19:15:00\",\"Vistara\",\"mechanical\"\n",
    "\"COK\",\"AMD\",\"2024-03-24 08:00:00\",\"2024-03-24 10:40:00\",\"2024-03-24 08:17:00\",\"2024-03-24 11:00:00\",\"Akasa Air\",\"storm\"\n",
    "\"SXR\",\"AMD\",\"2024-04-28 05:30:00\",\"2024-04-28 07:35:00\",\"2024-04-28 05:50:00\",\"2024-04-28 07:55:00\",\"Vistara\",\"visibility\"\n",
    "\"AMD\",\"SXR\",\"2024-07-25 07:00:00\",\"2024-07-25 09:10:00\",\"2024-07-25 07:10:00\",\"2024-07-25 09:20:00\",\"Akasa Air\",\"airTraffic\"\n",
    "\"AMD\",\"CCU\",\"2024-03-28 18:00:00\",\"2024-03-28 20:25:00\",\"2024-03-28 19:00:00\",\"2024-03-28 21:15:00\",\"Vistara\",\"storm\"\n",
    "\"SXR\",\"COK\",\"2024-06-28 23:00:00\",\"2024-06-29 04:40:00\",\"2024-06-28 23:40:00\",\"2024-06-29 05:20:00\",\"Vistara\",\"airTraffic\"\n",
    "\"COK\",\"CCU\",\"2024-06-24 18:00:00\",\"2024-06-24 21:05:00\",\"2024-06-24 18:05:00\",\"2024-06-24 21:25:00\",\"IndiGo\",\"visibility\"\n",
    "\"CCU\",\"AMD\",\"2024-07-25 04:00:00\",\"2024-07-25 06:45:00\",\"2024-07-25 04:30:00\",\"2024-07-25 07:05:00\",\"IndiGo\",\"airTraffic\"\n",
    "\"CCU\",\"COK\",\"2024-02-28 14:00:00\",\"2024-02-28 17:10:00\",\"2024-02-28 14:10:00\",\"2024-02-28 17:40:00\",\"IndiGo\",\"mechanical\"\n",
    "\"CCU\",\"SXR\",\"2024-04-21 17:00:00\",\"2024-04-21 19:50:00\",\"2024-04-21 17:30:00\",\"2024-04-21 20:05:00\",\"IndiGo\",\"airTraffic\""
   ]
  },
  {
   "cell_type": "code",
   "execution_count": 87,
   "metadata": {
    "id": "NSj_Dg60TKxF"
   },
   "outputs": [],
   "source": [
    "#Schema to be imposed\n",
    "schema = (\n",
    "\"origin_airport STRING, destination_airport STRING, scheduled_departure_time STRING, scheduled_arrival_time STRING, actual_departure_time STRING, actual_arrival_time STRING, carrier STRING, delay_reason STRING\")"
   ]
  },
  {
   "cell_type": "code",
   "execution_count": 88,
   "metadata": {
    "id": "6aW0AU3gTKz4"
   },
   "outputs": [],
   "source": [
    "#Import Libraries\n",
    "from pyspark.sql import SparkSession\n",
    "from pyspark.sql.types import *\n",
    "from pyspark.sql.functions import *"
   ]
  },
  {
   "cell_type": "code",
   "execution_count": 139,
   "metadata": {
    "id": "bJjbtnDqTK42"
   },
   "outputs": [],
   "source": [
    "#Create dataframe for the given data using enforced Schema method\n",
    "airline_df = spark.read.csv('/user/purvanakh61vgre/airlines.csv', schema=schema)"
   ]
  },
  {
   "cell_type": "code",
   "execution_count": 90,
   "metadata": {
    "id": "zF51idgGTK2v"
   },
   "outputs": [
    {
     "data": {
      "text/html": [
       "\n",
       "            <div>\n",
       "                <p><b>SparkSession - in-memory</b></p>\n",
       "                \n",
       "        <div>\n",
       "            <p><b>SparkContext</b></p>\n",
       "\n",
       "            <p><a href=\"http://gateway.cloudloka.com:4050\">Spark UI</a></p>\n",
       "\n",
       "            <dl>\n",
       "              <dt>Version</dt>\n",
       "                <dd><code>v3.1.2</code></dd>\n",
       "              <dt>Master</dt>\n",
       "                <dd><code>local[*]</code></dd>\n",
       "              <dt>AppName</dt>\n",
       "                <dd><code>pspyk11_purva</code></dd>\n",
       "            </dl>\n",
       "        </div>\n",
       "        \n",
       "            </div>\n",
       "        "
      ],
      "text/plain": [
       "<pyspark.sql.session.SparkSession at 0x7fd8e420e730>"
      ]
     },
     "execution_count": 90,
     "metadata": {},
     "output_type": "execute_result"
    }
   ],
   "source": [
    "#Create a SparkSession\n",
    "spark = SparkSession.builder.appName('pspyk11_purva').getOrCreate()\n",
    "spark"
   ]
  },
  {
   "cell_type": "code",
   "execution_count": 140,
   "metadata": {},
   "outputs": [
    {
     "name": "stdout",
     "output_type": "stream",
     "text": [
      "+--------------+-------------------+------------------------+----------------------+---------------------+-------------------+---------+------------+\n",
      "|origin_airport|destination_airport|scheduled_departure_time|scheduled_arrival_time|actual_departure_time|actual_arrival_time|  carrier|delay_reason|\n",
      "+--------------+-------------------+------------------------+----------------------+---------------------+-------------------+---------+------------+\n",
      "|           AMD|                COK|     2024-02-24 08:00:00|   2024-02-24 10:30:00|  2024-02-24 08:50:00|2024-02-24 11:25:00|Akasa Air|  airTraffic|\n",
      "|           COK|                SXR|     2024-02-25 12:00:00|   2024-02-25 18:30:00|  2024-02-25 12:15:00|2024-02-25 19:15:00|  Vistara|  mechanical|\n",
      "|           COK|                AMD|     2024-03-24 08:00:00|   2024-03-24 10:40:00|  2024-03-24 08:17:00|2024-03-24 11:00:00|Akasa Air|       storm|\n",
      "|           SXR|                AMD|     2024-04-28 05:30:00|   2024-04-28 07:35:00|  2024-04-28 05:50:00|2024-04-28 07:55:00|  Vistara|  visibility|\n",
      "|           AMD|                SXR|     2024-07-25 07:00:00|   2024-07-25 09:10:00|  2024-07-25 07:10:00|2024-07-25 09:20:00|Akasa Air|  airTraffic|\n",
      "|           AMD|                CCU|     2024-03-28 18:00:00|   2024-03-28 20:25:00|  2024-03-28 19:00:00|2024-03-28 21:15:00|  Vistara|       storm|\n",
      "|           SXR|                COK|     2024-06-28 23:00:00|   2024-06-29 04:40:00|  2024-06-28 23:40:00|2024-06-29 05:20:00|  Vistara|  airTraffic|\n",
      "|           COK|                CCU|     2024-06-24 18:00:00|   2024-06-24 21:05:00|  2024-06-24 18:05:00|2024-06-24 21:25:00|   IndiGo|  visibility|\n",
      "|           CCU|                AMD|     2024-07-25 04:00:00|   2024-07-25 06:45:00|  2024-07-25 04:30:00|2024-07-25 07:05:00|   IndiGo|  airTraffic|\n",
      "|           CCU|                COK|     2024-02-28 14:00:00|   2024-02-28 17:10:00|  2024-02-28 14:10:00|2024-02-28 17:40:00|   IndiGo|  mechanical|\n",
      "|           CCU|                SXR|     2024-04-21 17:00:00|   2024-04-21 19:50:00|  2024-04-21 17:30:00|2024-04-21 20:05:00|   IndiGo|  airTraffic|\n",
      "+--------------+-------------------+------------------------+----------------------+---------------------+-------------------+---------+------------+\n",
      "\n"
     ]
    }
   ],
   "source": [
    "airline_df.show()"
   ]
  },
  {
   "cell_type": "code",
   "execution_count": 141,
   "metadata": {},
   "outputs": [
    {
     "name": "stdout",
     "output_type": "stream",
     "text": [
      "root\n",
      " |-- origin_airport: string (nullable = true)\n",
      " |-- destination_airport: string (nullable = true)\n",
      " |-- scheduled_departure_time: timestamp (nullable = true)\n",
      " |-- scheduled_arrival_time: timestamp (nullable = true)\n",
      " |-- actual_departure_time: timestamp (nullable = true)\n",
      " |-- actual_arrival_time: timestamp (nullable = true)\n",
      " |-- carrier: string (nullable = true)\n",
      " |-- delay_reason: string (nullable = true)\n",
      "\n"
     ]
    }
   ],
   "source": [
    "airline_df = airline_df.withColumn('scheduled_departure_time', airline_df['scheduled_departure_time'].cast('timestamp'))\n",
    "airline_df = airline_df.withColumn('scheduled_arrival_time', airline_df['scheduled_arrival_time'].cast('timestamp'))\n",
    "airline_df = airline_df.withColumn('actual_departure_time', airline_df['actual_departure_time'].cast('timestamp'))\n",
    "airline_df = airline_df.withColumn('actual_arrival_time', airline_df['actual_arrival_time'].cast('timestamp'))\n",
    "airline_df.printSchema()\n"
   ]
  },
  {
   "cell_type": "code",
   "execution_count": 142,
   "metadata": {},
   "outputs": [],
   "source": [
    "airline_df = airline_df.withColumn('Delay', expr('unix_timestamp(actual_departure_time) - unix_timestamp(scheduled_departure_time)'))"
   ]
  },
  {
   "cell_type": "code",
   "execution_count": 144,
   "metadata": {
    "id": "zE8sMVYNTK7i"
   },
   "outputs": [
    {
     "name": "stdout",
     "output_type": "stream",
     "text": [
      "+--------------+-------------------+------------------------+----------------------+---------------------+-------------------+---------+------------+-----+\n",
      "|origin_airport|destination_airport|scheduled_departure_time|scheduled_arrival_time|actual_departure_time|actual_arrival_time|  carrier|delay_reason|Delay|\n",
      "+--------------+-------------------+------------------------+----------------------+---------------------+-------------------+---------+------------+-----+\n",
      "|           AMD|                COK|     2024-02-24 08:00:00|   2024-02-24 10:30:00|  2024-02-24 08:50:00|2024-02-24 11:25:00|Akasa Air|  airTraffic| 3000|\n",
      "|           COK|                SXR|     2024-02-25 12:00:00|   2024-02-25 18:30:00|  2024-02-25 12:15:00|2024-02-25 19:15:00|  Vistara|  mechanical|  900|\n",
      "|           COK|                AMD|     2024-03-24 08:00:00|   2024-03-24 10:40:00|  2024-03-24 08:17:00|2024-03-24 11:00:00|Akasa Air|       storm| 1020|\n",
      "|           SXR|                AMD|     2024-04-28 05:30:00|   2024-04-28 07:35:00|  2024-04-28 05:50:00|2024-04-28 07:55:00|  Vistara|  visibility| 1200|\n",
      "|           AMD|                SXR|     2024-07-25 07:00:00|   2024-07-25 09:10:00|  2024-07-25 07:10:00|2024-07-25 09:20:00|Akasa Air|  airTraffic|  600|\n",
      "|           AMD|                CCU|     2024-03-28 18:00:00|   2024-03-28 20:25:00|  2024-03-28 19:00:00|2024-03-28 21:15:00|  Vistara|       storm| 3600|\n",
      "|           SXR|                COK|     2024-06-28 23:00:00|   2024-06-29 04:40:00|  2024-06-28 23:40:00|2024-06-29 05:20:00|  Vistara|  airTraffic| 2400|\n",
      "|           COK|                CCU|     2024-06-24 18:00:00|   2024-06-24 21:05:00|  2024-06-24 18:05:00|2024-06-24 21:25:00|   IndiGo|  visibility|  300|\n",
      "|           CCU|                AMD|     2024-07-25 04:00:00|   2024-07-25 06:45:00|  2024-07-25 04:30:00|2024-07-25 07:05:00|   IndiGo|  airTraffic| 1800|\n",
      "|           CCU|                COK|     2024-02-28 14:00:00|   2024-02-28 17:10:00|  2024-02-28 14:10:00|2024-02-28 17:40:00|   IndiGo|  mechanical|  600|\n",
      "|           CCU|                SXR|     2024-04-21 17:00:00|   2024-04-21 19:50:00|  2024-04-21 17:30:00|2024-04-21 20:05:00|   IndiGo|  airTraffic| 1800|\n",
      "+--------------+-------------------+------------------------+----------------------+---------------------+-------------------+---------+------------+-----+\n",
      "\n"
     ]
    }
   ],
   "source": [
    "#Filter the dataframe to display all delayed flights\n",
    "airline_df.filter(airline_df.Delay > 0).show()"
   ]
  },
  {
   "cell_type": "code",
   "execution_count": 146,
   "metadata": {
    "id": "6eyemK93TK-i"
   },
   "outputs": [
    {
     "name": "stdout",
     "output_type": "stream",
     "text": [
      "+--------------+----------+\n",
      "|origin_airport|avg(Delay)|\n",
      "+--------------+----------+\n",
      "|           SXR|    1800.0|\n",
      "|           AMD|    2400.0|\n",
      "|           CCU|    1400.0|\n",
      "|           COK|     740.0|\n",
      "+--------------+----------+\n",
      "\n"
     ]
    }
   ],
   "source": [
    "#Calculate Average delay per source airport\n",
    "airline_df.groupBy('origin_airport').agg(avg('Delay')).show()"
   ]
  },
  {
   "cell_type": "code",
   "execution_count": 148,
   "metadata": {
    "id": "WL0mvZQjTLA4"
   },
   "outputs": [
    {
     "name": "stdout",
     "output_type": "stream",
     "text": [
      "+-------------------+----------+\n",
      "|destination_airport|avg(Delay)|\n",
      "+-------------------+----------+\n",
      "|                SXR|    1100.0|\n",
      "|                AMD|    1340.0|\n",
      "|                CCU|    1950.0|\n",
      "|                COK|    2000.0|\n",
      "+-------------------+----------+\n",
      "\n"
     ]
    }
   ],
   "source": [
    "##Calculate Average delay per destination airport\n",
    "airline_df.groupBy('destination_airport').agg(avg('Delay')).show()"
   ]
  },
  {
   "cell_type": "code",
   "execution_count": 150,
   "metadata": {
    "id": "E926xJ-0sYzJ"
   },
   "outputs": [
    {
     "name": "stdout",
     "output_type": "stream",
     "text": [
      "+---------+----------+\n",
      "|  carrier|avg(Delay)|\n",
      "+---------+----------+\n",
      "|Akasa Air|    1540.0|\n",
      "|   IndiGo|    1125.0|\n",
      "|  Vistara|    2025.0|\n",
      "+---------+----------+\n",
      "\n"
     ]
    }
   ],
   "source": [
    "#Calculate Average delay per airline\n",
    "airline_df.groupBy('carrier').agg(avg('Delay')).show()"
   ]
  },
  {
   "cell_type": "code",
   "execution_count": 154,
   "metadata": {
    "id": "vjYnz1lnsY1-"
   },
   "outputs": [
    {
     "data": {
      "text/plain": [
       "'Vistara'"
      ]
     },
     "execution_count": 154,
     "metadata": {},
     "output_type": "execute_result"
    }
   ],
   "source": [
    "#Fetch airline with maximum delay (in single flight)\n",
    "airline_df.orderBy('Delay',ascending=False).collect()[0]['carrier']"
   ]
  },
  {
   "cell_type": "code",
   "execution_count": 183,
   "metadata": {
    "id": "rnafU6f8sY5E"
   },
   "outputs": [
    {
     "data": {
      "text/plain": [
       "'Vistara'"
      ]
     },
     "execution_count": 183,
     "metadata": {},
     "output_type": "execute_result"
    }
   ],
   "source": [
    "#Fetch airline with maximum delay (overall time delay)\n",
    "df = airline_df.groupBy('carrier').agg({'Delay': 'sum'})\n",
    "df.orderBy('sum(Delay)',ascending=False).collect()[0][0]"
   ]
  },
  {
   "cell_type": "code",
   "execution_count": 184,
   "metadata": {
    "id": "nV2IzGmawZA3"
   },
   "outputs": [
    {
     "data": {
      "text/plain": [
       "'IndiGo'"
      ]
     },
     "execution_count": 184,
     "metadata": {},
     "output_type": "execute_result"
    }
   ],
   "source": [
    "#Fetch airline with minimum delay (in single flight)\n",
    "df = airline_df.groupBy('carrier').agg({'Delay': 'sum'})\n",
    "df.orderBy('sum(Delay)').collect()[0][0]"
   ]
  },
  {
   "cell_type": "code",
   "execution_count": 185,
   "metadata": {
    "id": "CLs2jLCVsY7e"
   },
   "outputs": [
    {
     "data": {
      "text/plain": [
       "'IndiGo'"
      ]
     },
     "execution_count": 185,
     "metadata": {},
     "output_type": "execute_result"
    }
   ],
   "source": [
    "#Fetch airline with minimum delay (overall time delay)\n",
    "df = airline_df.groupBy('carrier').agg({'Delay': 'sum'})\n",
    "df.orderBy('sum(Delay)').collect()[0][0]"
   ]
  },
  {
   "cell_type": "code",
   "execution_count": 190,
   "metadata": {
    "id": "j1wbEA5esY9b"
   },
   "outputs": [
    {
     "name": "stdout",
     "output_type": "stream",
     "text": [
      "+------------+----------+\n",
      "|delay_reason|avg(Delay)|\n",
      "+------------+----------+\n",
      "|  visibility|     750.0|\n",
      "|  airTraffic|    1920.0|\n",
      "|       storm|    2310.0|\n",
      "|  mechanical|     750.0|\n",
      "+------------+----------+\n",
      "\n"
     ]
    }
   ],
   "source": [
    "#Calculate Average delay per reason\n",
    "airline_df.groupBy('delay_reason').agg(avg('Delay')).show()"
   ]
  },
  {
   "cell_type": "code",
   "execution_count": 198,
   "metadata": {
    "id": "6L4hSBbxsZAo"
   },
   "outputs": [
    {
     "data": {
      "text/plain": [
       "'airTraffic'"
      ]
     },
     "execution_count": 198,
     "metadata": {},
     "output_type": "execute_result"
    }
   ],
   "source": [
    "#Find most recurring cause of delays\n",
    "airline_df.groupBy('delay_reason').count().orderBy('count', ascending=False).collect()[0][0]"
   ]
  },
  {
   "cell_type": "code",
   "execution_count": 216,
   "metadata": {
    "id": "2PjP8N9os0zz"
   },
   "outputs": [
    {
     "name": "stdout",
     "output_type": "stream",
     "text": [
      "+---------+------------------+\n",
      "|  carrier|sum(arrival_delay)|\n",
      "+---------+------------------+\n",
      "|Akasa Air|              5100|\n",
      "|   IndiGo|              5100|\n",
      "+---------+------------------+\n",
      "\n"
     ]
    }
   ],
   "source": [
    "#Identify the airline with best recovery time\n",
    "# (Even though the flight started late, the airline recovered a few minutes in flight time)\n",
    "df1 = airline_df.withColumn('arrival_delay', expr('unix_timestamp(actual_arrival_time) - unix_timestamp(scheduled_arrival_time)')).groupBy('carrier').agg(sum('arrival_delay')).orderBy('sum(arrival_delay)')\n",
    "mini = df1.agg({'sum(arrival_delay)': 'min'}).first()[0]\n",
    "df2 = df1.filter(col('sum(arrival_delay)') == mini).show()\n",
    "d"
   ]
  },
  {
   "cell_type": "code",
   "execution_count": 217,
   "metadata": {},
   "outputs": [
    {
     "ename": "AttributeError",
     "evalue": "'NoneType' object has no attribute 'rdd'",
     "output_type": "error",
     "traceback": [
      "\u001b[0;31m---------------------------------------------------------------------------\u001b[0m",
      "\u001b[0;31mAttributeError\u001b[0m                            Traceback (most recent call last)",
      "\u001b[0;32m/tmp/ipykernel_538238/3273803762.py\u001b[0m in \u001b[0;36m<module>\u001b[0;34m\u001b[0m\n\u001b[0;32m----> 1\u001b[0;31m \u001b[0mdf2\u001b[0m\u001b[0;34m.\u001b[0m\u001b[0mrdd\u001b[0m\u001b[0;34m.\u001b[0m\u001b[0mflatMap\u001b[0m\u001b[0;34m(\u001b[0m\u001b[0;32mlambda\u001b[0m \u001b[0mx\u001b[0m \u001b[0;34m:\u001b[0m \u001b[0;34m[\u001b[0m\u001b[0mx\u001b[0m\u001b[0;34m[\u001b[0m\u001b[0;36m0\u001b[0m\u001b[0;34m]\u001b[0m\u001b[0;34m]\u001b[0m\u001b[0;34m)\u001b[0m\u001b[0;34m.\u001b[0m\u001b[0mcollect\u001b[0m\u001b[0;34m(\u001b[0m\u001b[0;34m)\u001b[0m\u001b[0;34m\u001b[0m\u001b[0;34m\u001b[0m\u001b[0m\n\u001b[0m",
      "\u001b[0;31mAttributeError\u001b[0m: 'NoneType' object has no attribute 'rdd'"
     ]
    }
   ],
   "source": [
    "df2.rdd.flatMap(lambda x : [x[0]]).collect()"
   ]
  }
 ],
 "metadata": {
  "colab": {
   "provenance": []
  },
  "kernelspec": {
   "display_name": "Python 3 (ipykernel)",
   "language": "python",
   "name": "python3"
  },
  "language_info": {
   "codemirror_mode": {
    "name": "ipython",
    "version": 3
   },
   "file_extension": ".py",
   "mimetype": "text/x-python",
   "name": "python",
   "nbconvert_exporter": "python",
   "pygments_lexer": "ipython3",
   "version": "3.9.13"
  }
 },
 "nbformat": 4,
 "nbformat_minor": 4
}
